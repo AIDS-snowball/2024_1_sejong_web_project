{
 "cells": [
  {
   "cell_type": "code",
   "execution_count": 1,
   "metadata": {},
   "outputs": [
    {
     "name": "stdout",
     "output_type": "stream",
     "text": [
      "mps\n"
     ]
    }
   ],
   "source": [
    "import os\n",
    "import random\n",
    "from PIL import Image\n",
    "import numpy as np\n",
    "import torch\n",
    "import torchvision\n",
    "from torch.utils.data import DataLoader, Dataset\n",
    "from torchvision import transforms\n",
    "from torch.autograd import Variable\n",
    "from torch import optim\n",
    "import torch.nn as nn\n",
    "import torch.nn.functional as F\n",
    "import os\n",
    "import cv2\n",
    "import random\n",
    "from PIL import Image\n",
    "from tqdm import tqdm_notebook as tqdm\n",
    "import matplotlib.pyplot as plt\n",
    "device = 'mps' #torch.device(\"cuda:0\" if torch.cuda.is_available() else \"cpu\")\n",
    "import time as time\n",
    "print(device)"
   ]
  },
  {
   "cell_type": "code",
   "execution_count": 2,
   "metadata": {},
   "outputs": [],
   "source": [
    "import cv2\n",
    "import os\n",
    "from pathlib import Path\n",
    "\n",
    "def save_detect_image(folder_path, padding_factor=0.1):\n",
    "    if folder_path[-1] == '/':\n",
    "        save_folder_path = folder_path[:-1] + '_face'\n",
    "    else:\n",
    "        save_folder_path = folder_path + '_face'\n",
    "\n",
    "    Path(save_folder_path).mkdir(parents=True, exist_ok=True)\n",
    "\n",
    "    cascade_path = cv2.data.haarcascades + \"haarcascade_frontalface_default.xml\"\n",
    "    face_cascade = cv2.CascadeClassifier(cascade_path)\n",
    "\n",
    "    for filename in os.listdir(folder_path):\n",
    "        image_path = os.path.join(folder_path, filename)\n",
    "        image = cv2.imread(image_path)\n",
    "        if image is None:  \n",
    "            continue\n",
    "        gray = cv2.cvtColor(image, cv2.COLOR_BGR2GRAY)\n",
    "        faces = face_cascade.detectMultiScale(gray, 1.1, 4)\n",
    "\n",
    "        for (x, y, w, h) in faces:\n",
    "            padding_w = int(w * padding_factor)\n",
    "            padding_h = int(h * padding_factor)\n",
    "            x_pad = max(x - padding_w, 0)\n",
    "            y_pad = max(y - padding_h, 0)\n",
    "            w_pad = min(w + 2 * padding_w, image.shape[1] - x_pad)\n",
    "            h_pad = min(h + 2 * padding_h, image.shape[0] - y_pad)\n",
    "\n",
    "            face_img_with_padding = image[y_pad:y_pad+h_pad, x_pad:x_pad+w_pad]\n",
    "\n",
    "            save_path = os.path.join(save_folder_path, filename)\n",
    "            cv2.imwrite(save_path, face_img_with_padding)\n",
    "\n",
    "    return save_folder_path\n"
   ]
  },
  {
   "cell_type": "code",
   "execution_count": 3,
   "metadata": {},
   "outputs": [],
   "source": [
    "# save_detect_image(\"./080289-main/chap06/data/dogs-vs-cats/Cat\")\n",
    "# save_detect_image(\"./080289-main/chap06/data/dogs-vs-cats/Dog\")\n",
    "# save_detect_image(\"./080289-main/chap06/data/dogs-vs-cats/Cat_v\")\n",
    "# save_detect_image(\"./080289-main/chap06/data/dogs-vs-cats/Dog_v\")"
   ]
  },
  {
   "cell_type": "markdown",
   "metadata": {},
   "source": [
    "### dataloader 만들기"
   ]
  },
  {
   "cell_type": "code",
   "execution_count": 4,
   "metadata": {},
   "outputs": [],
   "source": [
    "class CatsDogsSiameseDataset(Dataset):\n",
    "    def __init__(self, cat_directory, dog_directory, transform=None):\n",
    "        self.cat_images = [os.path.join(cat_directory, img) for img in os.listdir(cat_directory)]\n",
    "        self.dog_images = [os.path.join(dog_directory, img) for img in os.listdir(dog_directory)]\n",
    "        random.shuffle(self.cat_images)\n",
    "        self.count=0\n",
    "        if len(self.cat_images) < len(self.dog_images):\n",
    "            for i in range(0,len(self.dog_images)-len(self.cat_images)):\n",
    "                if self.count==len(self.cat_images):\n",
    "                    self.count=0\n",
    "                self.cat_images.append(self.cat_images[self.count])\n",
    "                self.count+=1\n",
    "        elif len(self.cat_images) > len(self.dog_images):\n",
    "            for i in range(0,len(self.cat_images)-len(self.dog_images)):\n",
    "                if self.count==len(self.dog_images):\n",
    "                    self.count=0\n",
    "                self.dog_images.append(self.dog_images[self.count])\n",
    "                self.count+=1\n",
    "        self.transform = transform\n",
    "        # 고양이는 0, 강아지는 1로 레이블 지정\n",
    "        self.labels = []\n",
    "        for i in self.cat_images:\n",
    "            if 'chan' in i:\n",
    "                self.labels.append(1)\n",
    "            else:\n",
    "                self.labels.append(0)\n",
    "        self.cat_len=len(self.cat_images)\n",
    "        self.dog_len=len(self.dog_images)\n",
    "\n",
    "    def __getitem__(self, index):\n",
    "        # 첫 번째 이미지 선택\n",
    "        img1_path = self.dog_images[index]\n",
    "        label = self.labels[index]\n",
    "        \n",
    "\n",
    "        img2_path = self.cat_images[index]\n",
    "\n",
    "        img1 = Image.open(img1_path)\n",
    "        img2 = Image.open(img2_path)\n",
    "\n",
    "        if self.transform is not None:\n",
    "            img1 = self.transform(img1)\n",
    "            img2 = self.transform(img2)\n",
    "\n",
    "        return img1, img2, torch.from_numpy(np.array([int(label)], dtype=np.float32))\n",
    "\n",
    "    def __len__(self):\n",
    "        return len(self.cat_images)"
   ]
  },
  {
   "cell_type": "code",
   "execution_count": 5,
   "metadata": {},
   "outputs": [],
   "source": [
    "from torch.utils.data import Sampler\n",
    "import numpy as np\n",
    "\n",
    "class CustomSampler(Sampler):\n",
    "    def __init__(self, data_source, positive_ratio=0.8):\n",
    "        self.data_source = data_source\n",
    "        self.positive_ratio = positive_ratio\n",
    "\n",
    "    def __iter__(self):\n",
    "        num_samples = len(self.data_source)\n",
    "        num_positives = int(num_samples * self.positive_ratio)\n",
    "        num_negatives = num_samples - num_positives\n",
    "        \n",
    "        positive_indices = [i for i, label in enumerate(self.data_source.labels) if label == 1]\n",
    "        negative_indices = [i for i, label in enumerate(self.data_source.labels) if label == 0]\n",
    "        \n",
    "        chosen_positives = np.random.choice(positive_indices, num_positives, replace=True)\n",
    "        chosen_negatives = np.random.choice(negative_indices, num_negatives, replace=False)\n",
    "        \n",
    "        all_indices = np.hstack([chosen_positives, chosen_negatives])\n",
    "        np.random.shuffle(all_indices)\n",
    "        \n",
    "        return iter(all_indices.tolist())\n",
    "\n",
    "    def __len__(self):\n",
    "        return len(self.data_source)\n"
   ]
  },
  {
   "cell_type": "code",
   "execution_count": 6,
   "metadata": {},
   "outputs": [],
   "source": [
    "# 데이터 전처리 정의\n",
    "transform = transforms.Compose([\n",
    "    transforms.Resize((120, 120)),\n",
    "    transforms.ToTensor(),\n",
    "])\n",
    "\n",
    "train_dataset = CatsDogsSiameseDataset(cat_directory=r'./Cat_face', dog_directory=r'./Dog_face', transform=transform)\n",
    "train_sampler = CustomSampler(train_dataset, positive_ratio=0.4)\n",
    "\n",
    "train_dataloader = DataLoader(train_dataset, batch_size=32, sampler=train_sampler)\n",
    "\n",
    "val_dataset = CatsDogsSiameseDataset(cat_directory=r'./Cat_v_face', dog_directory=r'./Dog_v_face', transform=transform)\n",
    "val_dataloader = DataLoader(val_dataset, batch_size=32, shuffle=True)\n",
    "\n",
    "dataloader_dict = {'train': train_dataloader, 'val': val_dataloader}\n"
   ]
  },
  {
   "cell_type": "code",
   "execution_count": 7,
   "metadata": {},
   "outputs": [],
   "source": [
    "# # 평균과 표준편차 구하기\n",
    "# import numpy as np\n",
    "\n",
    "# meanRGB = [np.mean(x.numpy(), axis=(1,2)) for x,_ ,_ in dataset]\n",
    "# stdRGB = [np.std(x.numpy(), axis=(1,2)) for x,_,_ in dataset]\n",
    "\n",
    "# meanR = np.mean([m[0] for m in meanRGB])\n",
    "# meanG = np.mean([m[1] for m in meanRGB])\n",
    "# meanB = np.mean([m[2] for m in meanRGB])\n",
    "\n",
    "# stdR = np.mean([s[0] for s in stdRGB])\n",
    "# stdG = np.mean([s[1] for s in stdRGB])\n",
    "# stdB = np.mean([s[2] for s in stdRGB])\n",
    "\n",
    "# print(meanR, meanG, meanB)\n",
    "# print(stdR, stdG, stdB)"
   ]
  },
  {
   "cell_type": "code",
   "execution_count": 8,
   "metadata": {},
   "outputs": [],
   "source": [
    "# # 평균과 표준편차 구하기\n",
    "# import numpy as np\n",
    "# meanRGB = [np.mean(x.numpy(), axis=(1,2)) for _,x ,_ in dataset]\n",
    "# stdRGB = [np.std(x.numpy(), axis=(1,2)) for _,x,_ in dataset]\n",
    "\n",
    "# meanR = np.mean([m[0] for m in meanRGB])\n",
    "# meanG = np.mean([m[1] for m in meanRGB])\n",
    "# meanB = np.mean([m[2] for m in meanRGB])\n",
    "\n",
    "# stdR = np.mean([s[0] for s in stdRGB])\n",
    "# stdG = np.mean([s[1] for s in stdRGB])\n",
    "# stdB = np.mean([s[2] for s in stdRGB])\n",
    "\n",
    "# print(meanR, meanG, meanB)\n",
    "# print(stdR, stdG, stdB)"
   ]
  },
  {
   "cell_type": "code",
   "execution_count": null,
   "metadata": {},
   "outputs": [],
   "source": []
  },
  {
   "cell_type": "markdown",
   "metadata": {},
   "source": [
    "### 확인용"
   ]
  },
  {
   "cell_type": "code",
   "execution_count": 9,
   "metadata": {},
   "outputs": [
    {
     "data": {
      "text/plain": [
       "'from torchvision.utils import make_grid\\nimport matplotlib.pyplot as plt\\n\\n# 데이터로더에서 몇 개의 이미지 쌍을 시각적으로 확인하는 함수\\ndef visualize_image_pairs(dataloader, num_pairs=20):\\n    fig, axes = plt.subplots(nrows=num_pairs, ncols=2, figsize=(10, num_pairs * 5))\\n    \\n    # 데이터로더에서 이미지 쌍을 가져옴\\n    for i, (img1, img2, label) in enumerate(dataloader):\\n        if i >= num_pairs:\\n            break\\n        \\n        # 첫 번째 이미지 쌍을 왼쪽 열에 표시\\n        ax = axes[i, 0]\\n        ax.imshow(img1[0].permute(1, 2, 0))\\n        ax.set_title(f\\'Pair {i+1} - Image 1\\')\\n        ax.axis(\\'off\\')\\n        \\n        # 두 번째 이미지 쌍을 오른쪽 열에 표시\\n        ax = axes[i, 1]\\n        ax.imshow(img2[0].permute(1, 2, 0))\\n        ax.set_title(f\\'Pair {i+1} - Image 2 {\"(Same)\" if label[0] == 1 else \"(Different)\"}\\')\\n        ax.axis(\\'off\\')\\n    \\n    plt.tight_layout()\\n    plt.show()\\n\\nvisualize_image_pairs(dataloader, num_pairs=5)\\n'"
      ]
     },
     "execution_count": 9,
     "metadata": {},
     "output_type": "execute_result"
    }
   ],
   "source": [
    "\"\"\"from torchvision.utils import make_grid\n",
    "import matplotlib.pyplot as plt\n",
    "\n",
    "# 데이터로더에서 몇 개의 이미지 쌍을 시각적으로 확인하는 함수\n",
    "def visualize_image_pairs(dataloader, num_pairs=20):\n",
    "    fig, axes = plt.subplots(nrows=num_pairs, ncols=2, figsize=(10, num_pairs * 5))\n",
    "    \n",
    "    # 데이터로더에서 이미지 쌍을 가져옴\n",
    "    for i, (img1, img2, label) in enumerate(dataloader):\n",
    "        if i >= num_pairs:\n",
    "            break\n",
    "        \n",
    "        # 첫 번째 이미지 쌍을 왼쪽 열에 표시\n",
    "        ax = axes[i, 0]\n",
    "        ax.imshow(img1[0].permute(1, 2, 0))\n",
    "        ax.set_title(f'Pair {i+1} - Image 1')\n",
    "        ax.axis('off')\n",
    "        \n",
    "        # 두 번째 이미지 쌍을 오른쪽 열에 표시\n",
    "        ax = axes[i, 1]\n",
    "        ax.imshow(img2[0].permute(1, 2, 0))\n",
    "        ax.set_title(f'Pair {i+1} - Image 2 {\"(Same)\" if label[0] == 1 else \"(Different)\"}')\n",
    "        ax.axis('off')\n",
    "    \n",
    "    plt.tight_layout()\n",
    "    plt.show()\n",
    "\n",
    "visualize_image_pairs(dataloader, num_pairs=5)\n",
    "\"\"\""
   ]
  },
  {
   "cell_type": "code",
   "execution_count": 10,
   "metadata": {},
   "outputs": [],
   "source": [
    "class ContrastiveLoss(torch.nn.Module):\n",
    "    \"\"\"\n",
    "    Contrastive loss function.\n",
    "    Based on: http://yann.lecun.com/exdb/publis/pdf/hadsell-chopra-lecun-06.pdf\n",
    "    \"\"\"\n",
    "\n",
    "    def __init__(self, margin=2.0):\n",
    "        super(ContrastiveLoss, self).__init__()\n",
    "        self.margin = margin\n",
    "\n",
    "    def forward(self, output1, output2, label):\n",
    "        euclidean_distance = F.pairwise_distance(output1, output2, keepdim = True)\n",
    "        loss_contrastive = torch.mean((label) * torch.pow(euclidean_distance, 2) +\n",
    "                                      (1-label) * torch.pow(torch.clamp(self.margin - euclidean_distance, min=0.0), 2))\n",
    "\n",
    "\n",
    "        return loss_contrastive"
   ]
  },
  {
   "cell_type": "code",
   "execution_count": 11,
   "metadata": {},
   "outputs": [],
   "source": [
    "from torchvision.models import mobilenet_v3_large\n",
    "from facenet_pytorch import InceptionResnetV1\n",
    "class SiameseNetwork(nn.Module):\n",
    "    def __init__(self):\n",
    "        super(SiameseNetwork, self).__init__()\n",
    "        self.model=mobilenet_v3_large(pretrained=True)\n",
    "        #self.model=InceptionResnetV1(pretrained='vggface2')\n",
    "\n",
    "        self.fc = nn.Sequential(\n",
    "            nn.Linear(960, 512),\n",
    "            nn.ReLU(inplace=True),\n",
    "            nn.Linear(512, 256),\n",
    "            nn.ReLU(inplace=True),\n",
    "            nn.Linear(256, 128),\n",
    "        )\n",
    "            \n",
    "        self.model.classifier=self.fc\n",
    "    def forward(self, input1, input2):\n",
    "        output1 = self.model(input1)\n",
    "        output2 = self.model(input2)\n",
    "        return output1, output2"
   ]
  },
  {
   "cell_type": "code",
   "execution_count": 12,
   "metadata": {},
   "outputs": [
    {
     "name": "stderr",
     "output_type": "stream",
     "text": [
      "/Users/ijimin/miniforge3/envs/ForFace/lib/python3.11/site-packages/torchvision/models/_utils.py:208: UserWarning: The parameter 'pretrained' is deprecated since 0.13 and may be removed in the future, please use 'weights' instead.\n",
      "  warnings.warn(\n",
      "/Users/ijimin/miniforge3/envs/ForFace/lib/python3.11/site-packages/torchvision/models/_utils.py:223: UserWarning: Arguments other than a weight enum or `None` for 'weights' are deprecated since 0.13 and may be removed in the future. The current behavior is equivalent to passing `weights=MobileNet_V3_Large_Weights.IMAGENET1K_V1`. You can also use `weights=MobileNet_V3_Large_Weights.DEFAULT` to get the most up-to-date weights.\n",
      "  warnings.warn(msg)\n"
     ]
    }
   ],
   "source": [
    "model=SiameseNetwork().to(device)\n",
    "criterion=ContrastiveLoss()\n",
    "optimizer=optim.Adam(model.parameters(),lr=0.0005)"
   ]
  },
  {
   "cell_type": "code",
   "execution_count": 13,
   "metadata": {},
   "outputs": [],
   "source": [
    "def train_model(model, dataloader_dict, criterion, optimizer, num_epoch):    \n",
    "    since = time.time()\n",
    "    \n",
    "    for epoch in range(num_epoch):\n",
    "        print('Epoch {}/{}'.format(epoch + 1, num_epoch))\n",
    "        print('-'*20)\n",
    "        TP=0\n",
    "        TN=0\n",
    "        FP=0\n",
    "        FN=0\n",
    "        pos=[]\n",
    "        neg=[]\n",
    "        for phase in ['train', 'val']:            \n",
    "            if phase == 'train':\n",
    "                model.train()\n",
    "            else:\n",
    "                model.eval()\n",
    "                \n",
    "            epoch_loss = 0.0\n",
    "            \n",
    "            for inputs1,inputs2, labels in tqdm(dataloader_dict[phase]):\n",
    "                inputs1 = inputs1.to(device)\n",
    "                inputs2=inputs2.to(device)\n",
    "                labels=labels.to(device)\n",
    "                optimizer.zero_grad()\n",
    "                \n",
    "\n",
    "                with torch.set_grad_enabled(phase == 'train'):#학습 시에만 연산 기록을 추적\n",
    "                    outputs1,outputs2 = model(inputs1,inputs2)\n",
    "\n",
    "                    loss = criterion(outputs1,outputs2, labels)\n",
    "\n",
    "                    epoch_loss += loss.item() * inputs1.size(0)\n",
    "                \n",
    "                for i in range(32):\n",
    "                     if phase=='val':\n",
    "                        try:\n",
    "                            concatenated=torch.stack((inputs1[i].to('cpu'),inputs2[i].to('cpu')),dim=0)\n",
    "                        except:\n",
    "                            break\n",
    "                        distance=F.pairwise_distance(outputs1[i],outputs2[i])\n",
    "                        if(torch.tensor([1.], device='mps')==labels[i]):\n",
    "                            if(distance>0.6):\n",
    "                                FN+=1\n",
    "                            else:\n",
    "                                TP+=1\n",
    "                            pos.append(distance.cpu().tolist())\n",
    "                        else:\n",
    "                            if(distance>0.6):\n",
    "                                TN+=1\n",
    "                            else:\n",
    "                                FP+=1\n",
    "                            neg.append(distance.cpu().tolist())\n",
    "\n",
    "                for i in range(16):\n",
    "                     if phase=='val':\n",
    "                        if epoch==num_epoch-1:\n",
    "                            try:\n",
    "                                concatenated=torch.stack((inputs1[i].to('cpu'),inputs2[i].to('cpu')),dim=0)\n",
    "                            except:\n",
    "                                break\n",
    "                            distance=F.pairwise_distance(outputs1[i],outputs2[i])\n",
    "                            img = torchvision.utils.make_grid(concatenated).permute(1, 2, 0) # CHW to HWC\n",
    "                            plt.figure(figsize=(10, 5)) # 이미지 크기 설정\n",
    "                            plt.imshow(img)\n",
    "                            plt.text(10, -10, 'Dissimilarity: {:.2f}'.format(distance.item()), color='red')\n",
    "                if phase == 'train':\n",
    "                    loss.backward()\n",
    "                    optimizer.step()\n",
    "            epoch_loss = epoch_loss / len(dataloader_dict[phase].dataset)\n",
    "            \n",
    "            print('{} Loss: {:.4f}'.format(phase, epoch_loss))\n",
    "            if(phase=='val'):\n",
    "                try:\n",
    "                    print(\"민감도:%.2f 특이도:%.2f PPV:%.2f NPV:%.2f \\n pos_m:%.2f neg_m:%.2f\"%(TP/(TP+FN),TN/(FP+TN),TP/(TP+FP),TN/(TN+FN),sum(pos)/len(pos),sum(neg)/len(neg)))\n",
    "                except:\n",
    "                    print(\"TP:%d FP:%d FN:%d TN:%d\"%(TP,FP,FN,TN))\n",
    "                \n",
    "                print(\"accuracy:%.2f\"%((TP+TN)/(TP+TN+FP+FN)))\n",
    "                print(\"1종오류:%d\"%(FP))\n",
    "                plt.scatter(pos,[0]*len(pos))\n",
    "                plt.scatter(neg,[0]*len(neg))\n",
    "                plt.show()\n",
    "                torch.save(model,'check%d.pt'%(epoch+1))\n",
    "    time_elapsed = time.time() - since\n",
    "    print('Training complete in {:.0f}m {:.0f}s'.format(\n",
    "        time_elapsed // 60, time_elapsed % 60))\n",
    "    return model"
   ]
  },
  {
   "cell_type": "code",
   "execution_count": 14,
   "metadata": {},
   "outputs": [],
   "source": [
    "#if epoch==num_epoch-1:\n",
    "#                   if phase=='val':\n",
    "#                       distance=F.pairwise_distance(outputs1[i],outputs2[i])\n",
    "#                       img = torchvision.utils.make_grid(concatenated).permute(1, 2, 0) # CHW to HWC\n",
    "#                       plt.figure(figsize=(10, 5)) # 이미지 크기 설정\n",
    "#                       plt.imshow(img)\n",
    "#                       plt.text(10, -10, 'Dissimilarity: {:.2f}'.format(distance.item()), color='red')"
   ]
  },
  {
   "cell_type": "code",
   "execution_count": 15,
   "metadata": {},
   "outputs": [
    {
     "name": "stdout",
     "output_type": "stream",
     "text": [
      "Epoch 1/30\n",
      "--------------------\n"
     ]
    },
    {
     "name": "stderr",
     "output_type": "stream",
     "text": [
      "/var/folders/fx/ngvhqygx7vxbdk_cgfnxnz880000gn/T/ipykernel_17437/2059347125.py:21: TqdmDeprecationWarning: This function will be removed in tqdm==5.0.0\n",
      "Please use `tqdm.notebook.tqdm` instead of `tqdm.tqdm_notebook`\n",
      "  for inputs1,inputs2, labels in tqdm(dataloader_dict[phase]):\n"
     ]
    },
    {
     "data": {
      "application/vnd.jupyter.widget-view+json": {
       "model_id": "6ad6ff50f0b644eb89bdef7da3bf337d",
       "version_major": 2,
       "version_minor": 0
      },
      "text/plain": [
       "  0%|          | 0/27 [00:00<?, ?it/s]"
      ]
     },
     "metadata": {},
     "output_type": "display_data"
    },
    {
     "name": "stdout",
     "output_type": "stream",
     "text": [
      "train Loss: 0.4205\n"
     ]
    },
    {
     "data": {
      "application/vnd.jupyter.widget-view+json": {
       "model_id": "662184f9a1c54c2ea6be08a11ba7618d",
       "version_major": 2,
       "version_minor": 0
      },
      "text/plain": [
       "  0%|          | 0/15 [00:00<?, ?it/s]"
      ]
     },
     "metadata": {},
     "output_type": "display_data"
    },
    {
     "name": "stdout",
     "output_type": "stream",
     "text": [
      "val Loss: 0.9827\n",
      "민감도:1.00 특이도:0.78 PPV:0.25 NPV:1.00 \n",
      " pos_m:0.29 neg_m:1.10\n",
      "accuracy:0.79\n",
      "1종오류:96\n"
     ]
    },
    {
     "data": {
      "image/png": "[encoded data removed]",
      "text/plain": [
       "<Figure size 640x480 with 1 Axes>"
      ]
     },
     "metadata": {},
     "output_type": "display_data"
    },
    {
     "name": "stdout",
     "output_type": "stream",
     "text": [
      "Epoch 2/30\n",
      "--------------------\n"
     ]
    },
    {
     "data": {
      "application/vnd.jupyter.widget-view+json": {
       "model_id": "56460805892f42b2acb92e8f592c6f69",
       "version_major": 2,
       "version_minor": 0
      },
      "text/plain": [
       "  0%|          | 0/27 [00:00<?, ?it/s]"
      ]
     },
     "metadata": {},
     "output_type": "display_data"
    },
    {
     "name": "stdout",
     "output_type": "stream",
     "text": [
      "train Loss: 0.0421\n"
     ]
    },
    {
     "data": {
      "application/vnd.jupyter.widget-view+json": {
       "model_id": "67cd318766ef4f04aa6162bcd0c7a2ca",
       "version_major": 2,
       "version_minor": 0
      },
      "text/plain": [
       "  0%|          | 0/15 [00:00<?, ?it/s]"
      ]
     },
     "metadata": {},
     "output_type": "display_data"
    },
    {
     "name": "stdout",
     "output_type": "stream",
     "text": [
      "val Loss: 0.2391\n",
      "민감도:1.00 특이도:1.00 PPV:0.94 NPV:1.00 \n",
      " pos_m:0.25 neg_m:2.34\n",
      "accuracy:1.00\n",
      "1종오류:2\n"
     ]
    },
    {
     "data": {
      "image/png": "[encoded data removed]",
      "text/plain": [
       "<Figure size 640x480 with 1 Axes>"
      ]
     },
     "metadata": {},
     "output_type": "display_data"
    },
    {
     "name": "stdout",
     "output_type": "stream",
     "text": [
      "Epoch 3/30\n",
      "--------------------\n"
     ]
    },
    {
     "data": {
      "application/vnd.jupyter.widget-view+json": {
       "model_id": "d0e7db70445d4a2d9ef8ab2c00691924",
       "version_major": 2,
       "version_minor": 0
      },
      "text/plain": [
       "  0%|          | 0/27 [00:00<?, ?it/s]"
      ]
     },
     "metadata": {},
     "output_type": "display_data"
    },
    {
     "name": "stdout",
     "output_type": "stream",
     "text": [
      "train Loss: 0.0062\n"
     ]
    },
    {
     "data": {
      "application/vnd.jupyter.widget-view+json": {
       "model_id": "417c0e6a04ae451ba9fb5a18bdd0faa9",
       "version_major": 2,
       "version_minor": 0
      },
      "text/plain": [
       "  0%|          | 0/15 [00:00<?, ?it/s]"
      ]
     },
     "metadata": {},
     "output_type": "display_data"
    },
    {
     "name": "stdout",
     "output_type": "stream",
     "text": [
      "val Loss: 0.1473\n",
      "민감도:1.00 특이도:0.99 PPV:0.86 NPV:1.00 \n",
      " pos_m:0.21 neg_m:2.41\n",
      "accuracy:0.99\n",
      "1종오류:5\n"
     ]
    },
    {
     "data": {
      "image/png": "[encoded data removed]",
      "text/plain": [
       "<Figure size 640x480 with 1 Axes>"
      ]
     },
     "metadata": {},
     "output_type": "display_data"
    },
    {
     "name": "stdout",
     "output_type": "stream",
     "text": [
      "Epoch 4/30\n",
      "--------------------\n"
     ]
    },
    {
     "data": {
      "application/vnd.jupyter.widget-view+json": {
       "model_id": "d6e958cb58fd4bd2a72387b54f4b8a5d",
       "version_major": 2,
       "version_minor": 0
      },
      "text/plain": [
       "  0%|          | 0/27 [00:00<?, ?it/s]"
      ]
     },
     "metadata": {},
     "output_type": "display_data"
    },
    {
     "name": "stdout",
     "output_type": "stream",
     "text": [
      "train Loss: 0.0028\n"
     ]
    },
    {
     "data": {
      "application/vnd.jupyter.widget-view+json": {
       "model_id": "7cf6e5b621524ea08a0ac9f722775bf9",
       "version_major": 2,
       "version_minor": 0
      },
      "text/plain": [
       "  0%|          | 0/15 [00:00<?, ?it/s]"
      ]
     },
     "metadata": {},
     "output_type": "display_data"
    },
    {
     "name": "stdout",
     "output_type": "stream",
     "text": [
      "val Loss: 0.0809\n",
      "민감도:1.00 특이도:0.99 PPV:0.89 NPV:1.00 \n",
      " pos_m:0.18 neg_m:2.61\n",
      "accuracy:0.99\n",
      "1종오류:4\n"
     ]
    },
    {
     "data": {
      "image/png": "[encoded data removed]",
      "text/plain": [
       "<Figure size 640x480 with 1 Axes>"
      ]
     },
     "metadata": {},
     "output_type": "display_data"
    },
    {
     "name": "stdout",
     "output_type": "stream",
     "text": [
      "Epoch 5/30\n",
      "--------------------\n"
     ]
    },
    {
     "data": {
      "application/vnd.jupyter.widget-view+json": {
       "model_id": "5d74b23d1eab4f25bd6a459be6a39835",
       "version_major": 2,
       "version_minor": 0
      },
      "text/plain": [
       "  0%|          | 0/27 [00:00<?, ?it/s]"
      ]
     },
     "metadata": {},
     "output_type": "display_data"
    },
    {
     "name": "stdout",
     "output_type": "stream",
     "text": [
      "train Loss: 0.0019\n"
     ]
    },
    {
     "data": {
      "application/vnd.jupyter.widget-view+json": {
       "model_id": "03cbc32cf51f427eb84d10a95de542b0",
       "version_major": 2,
       "version_minor": 0
      },
      "text/plain": [
       "  0%|          | 0/15 [00:00<?, ?it/s]"
      ]
     },
     "metadata": {},
     "output_type": "display_data"
    },
    {
     "name": "stdout",
     "output_type": "stream",
     "text": [
      "val Loss: 0.0308\n",
      "민감도:1.00 특이도:1.00 PPV:0.97 NPV:1.00 \n",
      " pos_m:0.17 neg_m:3.02\n",
      "accuracy:1.00\n",
      "1종오류:1\n"
     ]
    },
    {
     "data": {
      "image/png": "[encoded data removed]",
      "text/plain": [
       "<Figure size 640x480 with 1 Axes>"
      ]
     },
     "metadata": {},
     "output_type": "display_data"
    },
    {
     "name": "stdout",
     "output_type": "stream",
     "text": [
      "Epoch 6/30\n",
      "--------------------\n"
     ]
    },
    {
     "data": {
      "application/vnd.jupyter.widget-view+json": {
       "model_id": "b071bfab76524f278aff0ddcb4327343",
       "version_major": 2,
       "version_minor": 0
      },
      "text/plain": [
       "  0%|          | 0/27 [00:00<?, ?it/s]"
      ]
     },
     "metadata": {},
     "output_type": "display_data"
    },
    {
     "name": "stdout",
     "output_type": "stream",
     "text": [
      "train Loss: 0.0019\n"
     ]
    },
    {
     "data": {
      "application/vnd.jupyter.widget-view+json": {
       "model_id": "333538b6f84543a19880f30f8193cda7",
       "version_major": 2,
       "version_minor": 0
      },
      "text/plain": [
       "  0%|          | 0/15 [00:00<?, ?it/s]"
      ]
     },
     "metadata": {},
     "output_type": "display_data"
    },
    {
     "name": "stdout",
     "output_type": "stream",
     "text": [
      "val Loss: 0.0117\n",
      "민감도:1.00 특이도:1.00 PPV:0.97 NPV:1.00 \n",
      " pos_m:0.17 neg_m:3.26\n",
      "accuracy:1.00\n",
      "1종오류:1\n"
     ]
    },
    {
     "data": {
      "image/png": "[encoded data removed]",
      "text/plain": [
       "<Figure size 640x480 with 1 Axes>"
      ]
     },
     "metadata": {},
     "output_type": "display_data"
    },
    {
     "name": "stdout",
     "output_type": "stream",
     "text": [
      "Epoch 7/30\n",
      "--------------------\n"
     ]
    },
    {
     "data": {
      "application/vnd.jupyter.widget-view+json": {
       "model_id": "9b28b8e4b47c4b739d59d08dcb558a6b",
       "version_major": 2,
       "version_minor": 0
      },
      "text/plain": [
       "  0%|          | 0/27 [00:00<?, ?it/s]"
      ]
     },
     "metadata": {},
     "output_type": "display_data"
    },
    {
     "name": "stdout",
     "output_type": "stream",
     "text": [
      "train Loss: 0.0014\n"
     ]
    },
    {
     "data": {
      "application/vnd.jupyter.widget-view+json": {
       "model_id": "e765943d758649fc818da264b6af126c",
       "version_major": 2,
       "version_minor": 0
      },
      "text/plain": [
       "  0%|          | 0/15 [00:00<?, ?it/s]"
      ]
     },
     "metadata": {},
     "output_type": "display_data"
    },
    {
     "name": "stdout",
     "output_type": "stream",
     "text": [
      "val Loss: 0.0091\n",
      "민감도:0.97 특이도:1.00 PPV:1.00 NPV:1.00 \n",
      " pos_m:0.23 neg_m:3.36\n",
      "accuracy:1.00\n",
      "1종오류:0\n"
     ]
    },
    {
     "data": {
      "image/png": "[encoded data removed]",
      "text/plain": [
       "<Figure size 640x480 with 1 Axes>"
      ]
     },
     "metadata": {},
     "output_type": "display_data"
    },
    {
     "name": "stdout",
     "output_type": "stream",
     "text": [
      "Epoch 8/30\n",
      "--------------------\n"
     ]
    },
    {
     "data": {
      "application/vnd.jupyter.widget-view+json": {
       "model_id": "da733ed1c38e44b08120d78b0ba814ad",
       "version_major": 2,
       "version_minor": 0
      },
      "text/plain": [
       "  0%|          | 0/27 [00:00<?, ?it/s]"
      ]
     },
     "metadata": {},
     "output_type": "display_data"
    },
    {
     "name": "stdout",
     "output_type": "stream",
     "text": [
      "train Loss: 0.0013\n"
     ]
    },
    {
     "data": {
      "application/vnd.jupyter.widget-view+json": {
       "model_id": "13670e2ec2a64627955e273f94f9ea03",
       "version_major": 2,
       "version_minor": 0
      },
      "text/plain": [
       "  0%|          | 0/15 [00:00<?, ?it/s]"
      ]
     },
     "metadata": {},
     "output_type": "display_data"
    },
    {
     "name": "stdout",
     "output_type": "stream",
     "text": [
      "val Loss: 0.0086\n",
      "민감도:0.97 특이도:1.00 PPV:1.00 NPV:1.00 \n",
      " pos_m:0.27 neg_m:3.47\n",
      "accuracy:1.00\n",
      "1종오류:0\n"
     ]
    },
    {
     "data": {
      "image/png": "[encoded data removed]",
      "text/plain": [
       "<Figure size 640x480 with 1 Axes>"
      ]
     },
     "metadata": {},
     "output_type": "display_data"
    },
    {
     "name": "stdout",
     "output_type": "stream",
     "text": [
      "Epoch 9/30\n",
      "--------------------\n"
     ]
    },
    {
     "data": {
      "application/vnd.jupyter.widget-view+json": {
       "model_id": "672a88e629fb4822825eb513993a640e",
       "version_major": 2,
       "version_minor": 0
      },
      "text/plain": [
       "  0%|          | 0/27 [00:00<?, ?it/s]"
      ]
     },
     "metadata": {},
     "output_type": "display_data"
    },
    {
     "name": "stdout",
     "output_type": "stream",
     "text": [
      "train Loss: 0.0009\n"
     ]
    },
    {
     "data": {
      "application/vnd.jupyter.widget-view+json": {
       "model_id": "138c9e5b64464d738498d0fe3b1159dd",
       "version_major": 2,
       "version_minor": 0
      },
      "text/plain": [
       "  0%|          | 0/15 [00:00<?, ?it/s]"
      ]
     },
     "metadata": {},
     "output_type": "display_data"
    },
    {
     "name": "stdout",
     "output_type": "stream",
     "text": [
      "val Loss: 0.0082\n",
      "민감도:0.97 특이도:1.00 PPV:1.00 NPV:1.00 \n",
      " pos_m:0.29 neg_m:3.69\n",
      "accuracy:1.00\n",
      "1종오류:0\n"
     ]
    },
    {
     "data": {
      "image/png": "[encoded data removed]",
      "text/plain": [
       "<Figure size 640x480 with 1 Axes>"
      ]
     },
     "metadata": {},
     "output_type": "display_data"
    },
    {
     "name": "stdout",
     "output_type": "stream",
     "text": [
      "Epoch 10/30\n",
      "--------------------\n"
     ]
    },
    {
     "data": {
      "application/vnd.jupyter.widget-view+json": {
       "model_id": "b81ca20f43364046bf6abb4d95553aef",
       "version_major": 2,
       "version_minor": 0
      },
      "text/plain": [
       "  0%|          | 0/27 [00:00<?, ?it/s]"
      ]
     },
     "metadata": {},
     "output_type": "display_data"
    },
    {
     "name": "stdout",
     "output_type": "stream",
     "text": [
      "train Loss: 0.0010\n"
     ]
    },
    {
     "data": {
      "application/vnd.jupyter.widget-view+json": {
       "model_id": "4dfa98d2c52643f9ae2f7486219b047b",
       "version_major": 2,
       "version_minor": 0
      },
      "text/plain": [
       "  0%|          | 0/15 [00:00<?, ?it/s]"
      ]
     },
     "metadata": {},
     "output_type": "display_data"
    },
    {
     "name": "stdout",
     "output_type": "stream",
     "text": [
      "val Loss: 0.0077\n",
      "민감도:0.97 특이도:1.00 PPV:1.00 NPV:1.00 \n",
      " pos_m:0.29 neg_m:3.94\n",
      "accuracy:1.00\n",
      "1종오류:0\n"
     ]
    },
    {
     "data": {
      "image/png": "[encoded data removed]",
      "text/plain": [
       "<Figure size 640x480 with 1 Axes>"
      ]
     },
     "metadata": {},
     "output_type": "display_data"
    },
    {
     "name": "stdout",
     "output_type": "stream",
     "text": [
      "Epoch 11/30\n",
      "--------------------\n"
     ]
    },
    {
     "data": {
      "application/vnd.jupyter.widget-view+json": {
       "model_id": "054f383e78464682a403e743d0cef313",
       "version_major": 2,
       "version_minor": 0
      },
      "text/plain": [
       "  0%|          | 0/27 [00:00<?, ?it/s]"
      ]
     },
     "metadata": {},
     "output_type": "display_data"
    },
    {
     "ename": "KeyboardInterrupt",
     "evalue": "",
     "output_type": "error",
     "traceback": [
      "\u001b[0;31m---------------------------------------------------------------------------\u001b[0m",
      "\u001b[0;31mKeyboardInterrupt\u001b[0m                         Traceback (most recent call last)",
      "Cell \u001b[0;32mIn[15], line 1\u001b[0m\n\u001b[0;32m----> 1\u001b[0m \u001b[43mtrain_model\u001b[49m\u001b[43m(\u001b[49m\u001b[43mmodel\u001b[49m\u001b[38;5;241;43m=\u001b[39;49m\u001b[43mmodel\u001b[49m\u001b[43m,\u001b[49m\u001b[43mdataloader_dict\u001b[49m\u001b[38;5;241;43m=\u001b[39;49m\u001b[43mdataloader_dict\u001b[49m\u001b[43m,\u001b[49m\u001b[43mcriterion\u001b[49m\u001b[38;5;241;43m=\u001b[39;49m\u001b[43mcriterion\u001b[49m\u001b[43m,\u001b[49m\u001b[43m \u001b[49m\u001b[43moptimizer\u001b[49m\u001b[38;5;241;43m=\u001b[39;49m\u001b[43moptimizer\u001b[49m\u001b[43m,\u001b[49m\u001b[43m \u001b[49m\u001b[43mnum_epoch\u001b[49m\u001b[38;5;241;43m=\u001b[39;49m\u001b[38;5;241;43m30\u001b[39;49m\u001b[43m)\u001b[49m\n\u001b[1;32m      2\u001b[0m torch\u001b[38;5;241m.\u001b[39msave(model, \u001b[38;5;124m'\u001b[39m\u001b[38;5;124mshinchan.pt\u001b[39m\u001b[38;5;124m'\u001b[39m)\n",
      "Cell \u001b[0;32mIn[13], line 68\u001b[0m, in \u001b[0;36mtrain_model\u001b[0;34m(model, dataloader_dict, criterion, optimizer, num_epoch)\u001b[0m\n\u001b[1;32m     66\u001b[0m                 plt\u001b[38;5;241m.\u001b[39mtext(\u001b[38;5;241m10\u001b[39m, \u001b[38;5;241m-\u001b[39m\u001b[38;5;241m10\u001b[39m, \u001b[38;5;124m'\u001b[39m\u001b[38;5;124mDissimilarity: \u001b[39m\u001b[38;5;132;01m{:.2f}\u001b[39;00m\u001b[38;5;124m'\u001b[39m\u001b[38;5;241m.\u001b[39mformat(distance\u001b[38;5;241m.\u001b[39mitem()), color\u001b[38;5;241m=\u001b[39m\u001b[38;5;124m'\u001b[39m\u001b[38;5;124mred\u001b[39m\u001b[38;5;124m'\u001b[39m)\n\u001b[1;32m     67\u001b[0m     \u001b[38;5;28;01mif\u001b[39;00m phase \u001b[38;5;241m==\u001b[39m \u001b[38;5;124m'\u001b[39m\u001b[38;5;124mtrain\u001b[39m\u001b[38;5;124m'\u001b[39m:\n\u001b[0;32m---> 68\u001b[0m         \u001b[43mloss\u001b[49m\u001b[38;5;241;43m.\u001b[39;49m\u001b[43mbackward\u001b[49m\u001b[43m(\u001b[49m\u001b[43m)\u001b[49m\n\u001b[1;32m     69\u001b[0m         optimizer\u001b[38;5;241m.\u001b[39mstep()\n\u001b[1;32m     70\u001b[0m epoch_loss \u001b[38;5;241m=\u001b[39m epoch_loss \u001b[38;5;241m/\u001b[39m \u001b[38;5;28mlen\u001b[39m(dataloader_dict[phase]\u001b[38;5;241m.\u001b[39mdataset)\n",
      "File \u001b[0;32m~/miniforge3/envs/ForFace/lib/python3.11/site-packages/torch/_tensor.py:522\u001b[0m, in \u001b[0;36mTensor.backward\u001b[0;34m(self, gradient, retain_graph, create_graph, inputs)\u001b[0m\n\u001b[1;32m    512\u001b[0m \u001b[38;5;28;01mif\u001b[39;00m has_torch_function_unary(\u001b[38;5;28mself\u001b[39m):\n\u001b[1;32m    513\u001b[0m     \u001b[38;5;28;01mreturn\u001b[39;00m handle_torch_function(\n\u001b[1;32m    514\u001b[0m         Tensor\u001b[38;5;241m.\u001b[39mbackward,\n\u001b[1;32m    515\u001b[0m         (\u001b[38;5;28mself\u001b[39m,),\n\u001b[0;32m   (...)\u001b[0m\n\u001b[1;32m    520\u001b[0m         inputs\u001b[38;5;241m=\u001b[39minputs,\n\u001b[1;32m    521\u001b[0m     )\n\u001b[0;32m--> 522\u001b[0m \u001b[43mtorch\u001b[49m\u001b[38;5;241;43m.\u001b[39;49m\u001b[43mautograd\u001b[49m\u001b[38;5;241;43m.\u001b[39;49m\u001b[43mbackward\u001b[49m\u001b[43m(\u001b[49m\n\u001b[1;32m    523\u001b[0m \u001b[43m    \u001b[49m\u001b[38;5;28;43mself\u001b[39;49m\u001b[43m,\u001b[49m\u001b[43m \u001b[49m\u001b[43mgradient\u001b[49m\u001b[43m,\u001b[49m\u001b[43m \u001b[49m\u001b[43mretain_graph\u001b[49m\u001b[43m,\u001b[49m\u001b[43m \u001b[49m\u001b[43mcreate_graph\u001b[49m\u001b[43m,\u001b[49m\u001b[43m \u001b[49m\u001b[43minputs\u001b[49m\u001b[38;5;241;43m=\u001b[39;49m\u001b[43minputs\u001b[49m\n\u001b[1;32m    524\u001b[0m \u001b[43m\u001b[49m\u001b[43m)\u001b[49m\n",
      "File \u001b[0;32m~/miniforge3/envs/ForFace/lib/python3.11/site-packages/torch/autograd/__init__.py:266\u001b[0m, in \u001b[0;36mbackward\u001b[0;34m(tensors, grad_tensors, retain_graph, create_graph, grad_variables, inputs)\u001b[0m\n\u001b[1;32m    261\u001b[0m     retain_graph \u001b[38;5;241m=\u001b[39m create_graph\n\u001b[1;32m    263\u001b[0m \u001b[38;5;66;03m# The reason we repeat the same comment below is that\u001b[39;00m\n\u001b[1;32m    264\u001b[0m \u001b[38;5;66;03m# some Python versions print out the first line of a multi-line function\u001b[39;00m\n\u001b[1;32m    265\u001b[0m \u001b[38;5;66;03m# calls in the traceback and some print out the last line\u001b[39;00m\n\u001b[0;32m--> 266\u001b[0m \u001b[43mVariable\u001b[49m\u001b[38;5;241;43m.\u001b[39;49m\u001b[43m_execution_engine\u001b[49m\u001b[38;5;241;43m.\u001b[39;49m\u001b[43mrun_backward\u001b[49m\u001b[43m(\u001b[49m\u001b[43m  \u001b[49m\u001b[38;5;66;43;03m# Calls into the C++ engine to run the backward pass\u001b[39;49;00m\n\u001b[1;32m    267\u001b[0m \u001b[43m    \u001b[49m\u001b[43mtensors\u001b[49m\u001b[43m,\u001b[49m\n\u001b[1;32m    268\u001b[0m \u001b[43m    \u001b[49m\u001b[43mgrad_tensors_\u001b[49m\u001b[43m,\u001b[49m\n\u001b[1;32m    269\u001b[0m \u001b[43m    \u001b[49m\u001b[43mretain_graph\u001b[49m\u001b[43m,\u001b[49m\n\u001b[1;32m    270\u001b[0m \u001b[43m    \u001b[49m\u001b[43mcreate_graph\u001b[49m\u001b[43m,\u001b[49m\n\u001b[1;32m    271\u001b[0m \u001b[43m    \u001b[49m\u001b[43minputs\u001b[49m\u001b[43m,\u001b[49m\n\u001b[1;32m    272\u001b[0m \u001b[43m    \u001b[49m\u001b[43mallow_unreachable\u001b[49m\u001b[38;5;241;43m=\u001b[39;49m\u001b[38;5;28;43;01mTrue\u001b[39;49;00m\u001b[43m,\u001b[49m\n\u001b[1;32m    273\u001b[0m \u001b[43m    \u001b[49m\u001b[43maccumulate_grad\u001b[49m\u001b[38;5;241;43m=\u001b[39;49m\u001b[38;5;28;43;01mTrue\u001b[39;49;00m\u001b[43m,\u001b[49m\n\u001b[1;32m    274\u001b[0m \u001b[43m\u001b[49m\u001b[43m)\u001b[49m\n",
      "\u001b[0;31mKeyboardInterrupt\u001b[0m: "
     ]
    }
   ],
   "source": [
    "train_model(model=model,dataloader_dict=dataloader_dict,criterion=criterion, optimizer=optimizer, num_epoch=30)\n",
    "torch.save(model, 'shinchan.pt')"
   ]
  },
  {
   "cell_type": "code",
   "execution_count": null,
   "metadata": {},
   "outputs": [],
   "source": []
  },
  {
   "cell_type": "markdown",
   "metadata": {},
   "source": []
  }
 ],
 "metadata": {
  "kernelspec": {
   "display_name": "ForFace",
   "language": "python",
   "name": "python3"
  },
  "language_info": {
   "codemirror_mode": {
    "name": "ipython",
    "version": 3
   },
   "file_extension": ".py",
   "mimetype": "text/x-python",
   "name": "python",
   "nbconvert_exporter": "python",
   "pygments_lexer": "ipython3",
   "version": "3.11.7"
  }
 },
 "nbformat": 4,
 "nbformat_minor": 2
}
